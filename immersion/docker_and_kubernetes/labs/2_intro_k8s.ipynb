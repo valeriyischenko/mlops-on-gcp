{
 "cells": [
  {
   "cell_type": "markdown",
   "metadata": {},
   "source": [
    "# Introduction to Kubernetes"
   ]
  },
  {
   "cell_type": "markdown",
   "metadata": {},
   "source": [
    "**Learning Objectives**\n",
    " * Create GKE cluster from command line\n",
    " * Deploy an application to your cluster\n",
    " * Cleanup, delete the cluster "
   ]
  },
  {
   "cell_type": "markdown",
   "metadata": {},
   "source": [
    "## Overview\n",
    "Kubernetes is an open source project (available on [kubernetes.io](kubernetes.io)) which can run on many different environments, from laptops to high-availability multi-node clusters; from public clouds to on-premise deployments; from virtual machines to bare metal.\n",
    "\n",
    "The goal of this lab is to provide a short introduction to Kubernetes (k8s) and some basic functionality."
   ]
  },
  {
   "cell_type": "markdown",
   "metadata": {},
   "source": [
    "## Create a GKE cluster\n",
    "\n",
    "A cluster consists of at least one cluster master machine and multiple worker machines called nodes. Nodes are Compute Engine virtual machine (VM) instances that run the Kubernetes processes necessary to make them part of the cluster.\n",
    "\n",
    "**Note**: Cluster names must start with a letter and end with an alphanumeric, and cannot be longer than 40 characters.\n",
    "\n",
    "We'll call our cluster `asl-cluster`."
   ]
  },
  {
   "cell_type": "code",
   "execution_count": 1,
   "metadata": {},
   "outputs": [],
   "source": [
    "import os\n",
    "\n",
    "CLUSTER_NAME = \"asl-cluster\"\n",
    "ZONE = \"us-central1-a\"\n",
    "\n",
    "os.environ[\"CLUSTER_NAME\"] = CLUSTER_NAME\n",
    "os.environ[\"ZONE\"] = ZONE"
   ]
  },
  {
   "cell_type": "markdown",
   "metadata": {},
   "source": [
    "We'll set our default compute zone to `us-central1-a` and use `gcloud container clusters create ...` to create the GKE cluster. Let's first look at all the clusters we currently have. "
   ]
  },
  {
   "cell_type": "code",
   "execution_count": 2,
   "metadata": {},
   "outputs": [
    {
     "name": "stdout",
     "output_type": "stream",
     "text": [
      "NAME       LOCATION       MASTER_VERSION   MASTER_IP      MACHINE_TYPE   NODE_VERSION     NUM_NODES  STATUS\n",
      "cluster-1  us-central1-a  1.18.16-gke.502  35.184.65.234  custom-2-4352  1.18.16-gke.502  3          RUNNING\n"
     ]
    }
   ],
   "source": [
    "!gcloud container clusters list"
   ]
  },
  {
   "cell_type": "markdown",
   "metadata": {},
   "source": [
    "**Exercise**\n",
    "\n",
    "Use `gcloud container clusters create` to create a new cluster using the `CLUSTER_NAME` we set above. This takes a few minutes..."
   ]
  },
  {
   "cell_type": "code",
   "execution_count": 5,
   "metadata": {},
   "outputs": [
    {
     "name": "stdout",
     "output_type": "stream",
     "text": [
      "NAME         LOCATION       MASTER_VERSION   MASTER_IP      MACHINE_TYPE  NODE_VERSION     NUM_NODES  STATUS\n",
      "asl-cluster  us-central1-a  1.18.16-gke.502  35.224.13.218  e2-medium     1.18.16-gke.502  3          RUNNING\n"
     ]
    },
    {
     "name": "stderr",
     "output_type": "stream",
     "text": [
      "Updated property [compute/zone].\n",
      "WARNING: Starting in January 2021, clusters will use the Regular release channel by default when `--cluster-version`, `--release-channel`, `--no-enable-autoupgrade`, and `--no-enable-autorepair` flags are not specified.\n",
      "WARNING: Currently VPC-native is not the default mode during cluster creation. In the future, this will become the default mode and can be disabled using `--no-enable-ip-alias` flag. Use `--[no-]enable-ip-alias` flag to suppress this warning.\n",
      "WARNING: Starting with version 1.18, clusters will have shielded GKE nodes by default.\n",
      "WARNING: Your Pod address range (`--cluster-ipv4-cidr`) can accommodate at most 1008 node(s). \n",
      "WARNING: Starting with version 1.19, newly created clusters and node-pools will have COS_CONTAINERD as the default node image when no image type is specified.\n",
      "Creating cluster asl-cluster in us-central1-a...\n",
      ".............................................................................................................................................................................................................................................................................................................................................................................................................................................................................................................................................................................................................................................................................................................................................................................................................................................................done.\n",
      "Created [https://container.googleapis.com/v1/projects/qwiklabs-gcp-01-4098456db096/zones/us-central1-a/clusters/asl-cluster].\n",
      "To inspect the contents of your cluster, go to: https://console.cloud.google.com/kubernetes/workload_/gcloud/us-central1-a/asl-cluster?project=qwiklabs-gcp-01-4098456db096\n",
      "kubeconfig entry generated for asl-cluster.\n"
     ]
    }
   ],
   "source": [
    "%%bash\n",
    "gcloud config set compute/zone ${ZONE}\n",
    "gcloud container clusters create ${CLUSTER_NAME}"
   ]
  },
  {
   "cell_type": "markdown",
   "metadata": {},
   "source": [
    "Now when we list our clusters again, we should see the cluster we created. "
   ]
  },
  {
   "cell_type": "code",
   "execution_count": 7,
   "metadata": {},
   "outputs": [
    {
     "name": "stdout",
     "output_type": "stream",
     "text": [
      "NAME         LOCATION       MASTER_VERSION   MASTER_IP      MACHINE_TYPE   NODE_VERSION     NUM_NODES  STATUS\n",
      "asl-cluster  us-central1-a  1.18.16-gke.502  35.224.13.218  e2-medium      1.18.16-gke.502  3          RUNNING\n",
      "cluster-1    us-central1-a  1.18.16-gke.502  35.184.65.234  custom-2-4352  1.18.16-gke.502  3          RUNNING\n"
     ]
    }
   ],
   "source": [
    "!gcloud container clusters list"
   ]
  },
  {
   "cell_type": "markdown",
   "metadata": {},
   "source": [
    "## Get authentication credentials and deploy and application\n",
    "\n",
    "After creating your cluster, you need authentication credentials to interact with it. Use `get-credentials` to authenticate the cluster.\n",
    "\n",
    "**Exercise**\n",
    "\n",
    "Use `gcloud container clusters get-credentials` to authenticate the cluster you created."
   ]
  },
  {
   "cell_type": "code",
   "execution_count": 8,
   "metadata": {},
   "outputs": [
    {
     "name": "stderr",
     "output_type": "stream",
     "text": [
      "Fetching cluster endpoint and auth data.\n",
      "kubeconfig entry generated for asl-cluster.\n"
     ]
    }
   ],
   "source": [
    "%%bash\n",
    "gcloud container clusters get-credentials ${CLUSTER_NAME}"
   ]
  },
  {
   "cell_type": "markdown",
   "metadata": {},
   "source": [
    "You can now deploy a containerized application to the cluster. For this lab, you'll run `hello-app` in your cluster.\n",
    "\n",
    "GKE uses Kubernetes objects to create and manage your cluster's resources. Kubernetes provides the [Deployment](https://kubernetes.io/docs/concepts/workloads/controllers/deployment/) object for deploying stateless applications like web servers. [Service](https://kubernetes.io/docs/concepts/services-networking/service/) objects define rules and load balancing for accessing your application from the internet.\n",
    "\n",
    "**Exercise**\n",
    "\n",
    "Use the `kubectl create` command to create a new Deployment `hello-server` from the `hello-app` container image. The `--image` flag to specify a container image to deploy. The `kubectl create` command pulls the example image from a Container Registry bucket. Here, use [gcr.io/google-samples/hello-app:1.0](gcr.io/google-samples/hello-app:1.0) to indicate the specific image version to pull. If a version is not specified, the latest version is used."
   ]
  },
  {
   "cell_type": "code",
   "execution_count": 9,
   "metadata": {},
   "outputs": [
    {
     "name": "stdout",
     "output_type": "stream",
     "text": [
      "deployment.apps/hello-server created\n"
     ]
    }
   ],
   "source": [
    "%%bash\n",
    "kubectl create deployment hello-server --image=gcr.io/google-samples/hello-app:1.0"
   ]
  },
  {
   "cell_type": "markdown",
   "metadata": {},
   "source": [
    "This Kubernetes command creates a Deployment object that represents `hello-server`. To create a Kubernetes Service, which is a Kubernetes resource that lets you expose your application to external traffic, run the `kubectl expose` command. \n",
    "\n",
    "**Exercise**\n",
    "\n",
    "Use the `kubectl expose` to expose the application. In this command, \n",
    "  * `--port` specifies the port that the container exposes.\n",
    "  * `type=\"LoadBalancer\"` creates a Compute Engine load balancer for your container."
   ]
  },
  {
   "cell_type": "code",
   "execution_count": 11,
   "metadata": {},
   "outputs": [
    {
     "name": "stdout",
     "output_type": "stream",
     "text": [
      "service/hello-server exposed\n"
     ]
    }
   ],
   "source": [
    "%%bash\n",
    "kubectl expose deployment hello-server --type=LoadBalancer --port=8080"
   ]
  },
  {
   "cell_type": "markdown",
   "metadata": {},
   "source": [
    "Use the `kubectl get service` command to inspect the `hello-server` Service.\n",
    "\n",
    "**Note**: It might take a minute for an external IP address to be generated. Run the previous command again if the `EXTERNAL-IP` column for `hello-server` status is pending."
   ]
  },
  {
   "cell_type": "code",
   "execution_count": 12,
   "metadata": {},
   "outputs": [
    {
     "name": "stdout",
     "output_type": "stream",
     "text": [
      "NAME           TYPE           CLUSTER-IP     EXTERNAL-IP   PORT(S)          AGE\n",
      "hello-server   LoadBalancer   10.7.243.249   <pending>     8080:31258/TCP   5s\n",
      "kubernetes     ClusterIP      10.7.240.1     <none>        443/TCP          4m12s\n"
     ]
    }
   ],
   "source": [
    "!kubectl get service"
   ]
  },
  {
   "cell_type": "code",
   "execution_count": 13,
   "metadata": {},
   "outputs": [
    {
     "name": "stdout",
     "output_type": "stream",
     "text": [
      "NAME           TYPE           CLUSTER-IP     EXTERNAL-IP    PORT(S)          AGE\n",
      "hello-server   LoadBalancer   10.7.243.249   34.66.82.233   8080:31258/TCP   37s\n",
      "kubernetes     ClusterIP      10.7.240.1     <none>         443/TCP          4m44s\n"
     ]
    }
   ],
   "source": [
    "!kubectl get service"
   ]
  },
  {
   "cell_type": "markdown",
   "metadata": {},
   "source": [
    "You can now view the application from your web browser, open a new tab and enter the following address, replacing `EXTERNAL IP` with the EXTERNAL-IP for `hello-server`:\n",
    "\n",
    "```bash\n",
    "http://[EXTERNAL_IP]:8080\n",
    "```\n",
    "\n",
    "You should see a simple page which displays\n",
    "\n",
    "```bash\n",
    "Hello, world!\n",
    "Version: 1.0.0\n",
    "Hostname: hello-server-5bfd595c65-7jqkn\n",
    "```"
   ]
  },
  {
   "cell_type": "markdown",
   "metadata": {},
   "source": [
    "## Cleanup\n",
    "\n",
    "Delete the cluster using `gcloud` to free up those resources. Use the `--quiet` flag if you are executing this in a notebook. Deleting the cluster can take a few minutes. "
   ]
  },
  {
   "cell_type": "markdown",
   "metadata": {},
   "source": [
    "**Exercise**\n",
    "\n",
    "Delete the cluster. Use the `--quiet` flag since we're executing in a notebook."
   ]
  },
  {
   "cell_type": "code",
   "execution_count": 14,
   "metadata": {},
   "outputs": [
    {
     "name": "stderr",
     "output_type": "stream",
     "text": [
      "Deleting cluster asl-cluster...\n",
      "...............................................................................................................................................................................................................................................................................................................................................................................................................................................................................................................................................................................................................................................................................................................................................................................................................................................................................................................done.\n",
      "Deleted [https://container.googleapis.com/v1/projects/qwiklabs-gcp-01-4098456db096/zones/us-central1-a/clusters/asl-cluster].\n"
     ]
    }
   ],
   "source": [
    "%%bash\n",
    "gcloud container clusters --quiet delete ${CLUSTER_NAME}"
   ]
  },
  {
   "cell_type": "markdown",
   "metadata": {},
   "source": [
    "Copyright 2020 Google LLC Licensed under the Apache License, Version 2.0 (the \"License\"); you may not use this file except in compliance with the License. You may obtain a copy of the License at https://www.apache.org/licenses/LICENSE-2.0 Unless required by applicable law or agreed to in writing, software distributed under the License is distributed on an \"AS IS\" BASIS, WITHOUT WARRANTIES OR CONDITIONS OF ANY KIND, either express or implied. See the License for the specific language governing permissions and limitations under the License."
   ]
  }
 ],
 "metadata": {
  "environment": {
   "name": "tf2-gpu.2-1.m65",
   "type": "gcloud",
   "uri": "gcr.io/deeplearning-platform-release/tf2-gpu.2-1:m65"
  },
  "kernelspec": {
   "display_name": "Python 3",
   "language": "python",
   "name": "python3"
  },
  "language_info": {
   "codemirror_mode": {
    "name": "ipython",
    "version": 3
   },
   "file_extension": ".py",
   "mimetype": "text/x-python",
   "name": "python",
   "nbconvert_exporter": "python",
   "pygments_lexer": "ipython3",
   "version": "3.7.10"
  }
 },
 "nbformat": 4,
 "nbformat_minor": 4
}
